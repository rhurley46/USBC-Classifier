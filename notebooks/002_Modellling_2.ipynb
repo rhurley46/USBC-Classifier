{
 "cells": [
  {
   "attachments": {},
   "cell_type": "markdown",
   "metadata": {},
   "source": [
    "## Final"
   ]
  },
  {
   "cell_type": "code",
   "execution_count": 32,
   "metadata": {},
   "outputs": [],
   "source": [
    "import pandas as pd\n",
    "from sklearn.preprocessing import LabelEncoder, OneHotEncoder, MinMaxScaler\n",
    "from sklearn.compose import ColumnTransformer\n",
    "from imblearn.pipeline import Pipeline\n",
    "from sklearn.model_selection import cross_val_score, RepeatedStratifiedKFold\n",
    "from sklearn.tree import DecisionTreeClassifier\n",
    "from sklearn.svm import SVC\n",
    "from sklearn.ensemble import RandomForestClassifier, GradientBoostingClassifier, BaggingClassifier"
   ]
  },
  {
   "cell_type": "code",
   "execution_count": 28,
   "metadata": {},
   "outputs": [],
   "source": [
    "col_names = [\n",
    "  \"age\",\n",
    "  \"class of worker\",\n",
    "  \"detailed industry recode\",\n",
    "  \"detailed occupation recode\",\n",
    "  \"education\",\n",
    "  \"wage per hour\",\n",
    "  \"enroll in edu inst last wk\",\n",
    "  \"marital stat\",\n",
    "  \"major industry code\",\n",
    "  \"major occupation code\",\n",
    "  \"race\",\n",
    "  \"hispanic origin\",\n",
    "  \"sex\",\n",
    "  \"member of a labor union\",\n",
    "  \"reason for unemployment\",\n",
    "  \"full or part time employment stat\",\n",
    "  \"capital gains\",\n",
    "  \"capital losses\",\n",
    "  \"dividends from stocks\",\n",
    "  \"tax filer stat\",\n",
    "  \"region of previous residence\",\n",
    "  \"state of previous residence\",\n",
    "  \"detailed household and family stat\",\n",
    "  \"detailed household summary in household\",\n",
    "  \"instance weight\",\n",
    "  \"migration code-change in msa\",\n",
    "  \"migration code-change in reg\",\n",
    "  \"migration code-move within reg\",\n",
    "  \"live in this house 1 year ago\",\n",
    "  \"migration prev res in sunbelt\",\n",
    "  \"num persons worked for employer\",\n",
    "  \"family members under 18\",\n",
    "  \"country of birth father\",\n",
    "  \"country of birth mother\",\n",
    "  \"country of birth self\",\n",
    "  \"citizenship\",\n",
    "  \"own business or self employed\",\n",
    "  \"fill inc questionnaire for veteran's admin\",\n",
    "  \"veterans benefits\",\n",
    "  \"weeks worked in year\",\n",
    "  \"year\",\n",
    "  \"income\"]"
   ]
  },
  {
   "cell_type": "code",
   "execution_count": 29,
   "metadata": {},
   "outputs": [],
   "source": [
    "def load_dataset(full_path):\n",
    "    dataframe = pd.read_csv(\"../data/raw/census_income_learn.csv\", names=col_names, na_values=' ?')\n",
    "    dataframe = dataframe.dropna()\n",
    "    X, y= dataframe.iloc[:, :-1], dataframe.iloc[:, -1]\n",
    "    cat_ix = dataframe.select_dtypes(include=['object', 'bool']).columns\n",
    "    num_ix = dataframe.select_dtypes(include=['int64', 'float64']).columns\n",
    "    y = LabelEncoder().fit_transform(y)\n",
    "    return X.values, y, cat_ix, num_ix"
   ]
  },
  {
   "cell_type": "code",
   "execution_count": 30,
   "metadata": {},
   "outputs": [],
   "source": [
    "def evaluate_model(X, y, model):\n",
    "    cv = RepeatedStratifiedKFold(n_splits=10, n_repeats=3, random_state=1)\n",
    "    scores = cross_val_score(model, X, y, scoring='accuracy', cv=cv, n_jobs=-1)\n",
    "    return scores"
   ]
  },
  {
   "cell_type": "code",
   "execution_count": null,
   "metadata": {},
   "outputs": [],
   "source": [
    "def get_models():\n",
    "    models, names = list(), list()\n",
    "    models.append(D))"
   ]
  },
  {
   "cell_type": "code",
   "execution_count": 31,
   "metadata": {},
   "outputs": [],
   "source": [
    "X, y, cat_ix, num_ix = load_dataset('/Users/rory.hurley/Documents/GitHub/uscb_classifier/data/raw/census_income_learn.csv')"
   ]
  },
  {
   "cell_type": "code",
   "execution_count": null,
   "metadata": {},
   "outputs": [],
   "source": [
    "model = GradientBoostingClassifier(n_estimators=100)"
   ]
  },
  {
   "cell_type": "code",
   "execution_count": null,
   "metadata": {},
   "outputs": [],
   "source": []
  }
 ],
 "metadata": {
  "kernelspec": {
   "display_name": "usbc_venv",
   "language": "python",
   "name": "python3"
  },
  "language_info": {
   "codemirror_mode": {
    "name": "ipython",
    "version": 3
   },
   "file_extension": ".py",
   "mimetype": "text/x-python",
   "name": "python",
   "nbconvert_exporter": "python",
   "pygments_lexer": "ipython3",
   "version": "3.10.0"
  },
  "orig_nbformat": 4,
  "vscode": {
   "interpreter": {
    "hash": "ac071e1398cffcad26b39b85b55e82a6538a148c1efa68764d8b65ed779f57e8"
   }
  }
 },
 "nbformat": 4,
 "nbformat_minor": 2
}
