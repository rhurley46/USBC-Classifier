{
 "cells": [
  {
   "cell_type": "code",
   "execution_count": 21,
   "metadata": {},
   "outputs": [],
   "source": [
    "from imblearn.pipeline import Pipeline\n",
    "import joblib\n",
    "import pickle\n",
    "import pandas as pd\n",
    "from sklearn.metrics import classification_report\n",
    "from sklearn.preprocessing import LabelEncoder"
   ]
  },
  {
   "cell_type": "code",
   "execution_count": 7,
   "metadata": {},
   "outputs": [],
   "source": [
    "pipeline = joblib.load(open(\"/Users/rory.hurley/Documents/GitHub/uscb_classifier/pipelines/pipeline.pkl\", \"rb\"))"
   ]
  },
  {
   "cell_type": "code",
   "execution_count": 17,
   "metadata": {},
   "outputs": [
    {
     "data": {
      "text/html": [
       "<style>#sk-container-id-2 {color: black;background-color: white;}#sk-container-id-2 pre{padding: 0;}#sk-container-id-2 div.sk-toggleable {background-color: white;}#sk-container-id-2 label.sk-toggleable__label {cursor: pointer;display: block;width: 100%;margin-bottom: 0;padding: 0.3em;box-sizing: border-box;text-align: center;}#sk-container-id-2 label.sk-toggleable__label-arrow:before {content: \"▸\";float: left;margin-right: 0.25em;color: #696969;}#sk-container-id-2 label.sk-toggleable__label-arrow:hover:before {color: black;}#sk-container-id-2 div.sk-estimator:hover label.sk-toggleable__label-arrow:before {color: black;}#sk-container-id-2 div.sk-toggleable__content {max-height: 0;max-width: 0;overflow: hidden;text-align: left;background-color: #f0f8ff;}#sk-container-id-2 div.sk-toggleable__content pre {margin: 0.2em;color: black;border-radius: 0.25em;background-color: #f0f8ff;}#sk-container-id-2 input.sk-toggleable__control:checked~div.sk-toggleable__content {max-height: 200px;max-width: 100%;overflow: auto;}#sk-container-id-2 input.sk-toggleable__control:checked~label.sk-toggleable__label-arrow:before {content: \"▾\";}#sk-container-id-2 div.sk-estimator input.sk-toggleable__control:checked~label.sk-toggleable__label {background-color: #d4ebff;}#sk-container-id-2 div.sk-label input.sk-toggleable__control:checked~label.sk-toggleable__label {background-color: #d4ebff;}#sk-container-id-2 input.sk-hidden--visually {border: 0;clip: rect(1px 1px 1px 1px);clip: rect(1px, 1px, 1px, 1px);height: 1px;margin: -1px;overflow: hidden;padding: 0;position: absolute;width: 1px;}#sk-container-id-2 div.sk-estimator {font-family: monospace;background-color: #f0f8ff;border: 1px dotted black;border-radius: 0.25em;box-sizing: border-box;margin-bottom: 0.5em;}#sk-container-id-2 div.sk-estimator:hover {background-color: #d4ebff;}#sk-container-id-2 div.sk-parallel-item::after {content: \"\";width: 100%;border-bottom: 1px solid gray;flex-grow: 1;}#sk-container-id-2 div.sk-label:hover label.sk-toggleable__label {background-color: #d4ebff;}#sk-container-id-2 div.sk-serial::before {content: \"\";position: absolute;border-left: 1px solid gray;box-sizing: border-box;top: 0;bottom: 0;left: 50%;z-index: 0;}#sk-container-id-2 div.sk-serial {display: flex;flex-direction: column;align-items: center;background-color: white;padding-right: 0.2em;padding-left: 0.2em;position: relative;}#sk-container-id-2 div.sk-item {position: relative;z-index: 1;}#sk-container-id-2 div.sk-parallel {display: flex;align-items: stretch;justify-content: center;background-color: white;position: relative;}#sk-container-id-2 div.sk-item::before, #sk-container-id-2 div.sk-parallel-item::before {content: \"\";position: absolute;border-left: 1px solid gray;box-sizing: border-box;top: 0;bottom: 0;left: 50%;z-index: -1;}#sk-container-id-2 div.sk-parallel-item {display: flex;flex-direction: column;z-index: 1;position: relative;background-color: white;}#sk-container-id-2 div.sk-parallel-item:first-child::after {align-self: flex-end;width: 50%;}#sk-container-id-2 div.sk-parallel-item:last-child::after {align-self: flex-start;width: 50%;}#sk-container-id-2 div.sk-parallel-item:only-child::after {width: 0;}#sk-container-id-2 div.sk-dashed-wrapped {border: 1px dashed gray;margin: 0 0.4em 0.5em 0.4em;box-sizing: border-box;padding-bottom: 0.4em;background-color: white;}#sk-container-id-2 div.sk-label label {font-family: monospace;font-weight: bold;display: inline-block;line-height: 1.2em;}#sk-container-id-2 div.sk-label-container {text-align: center;}#sk-container-id-2 div.sk-container {/* jupyter's `normalize.less` sets `[hidden] { display: none; }` but bootstrap.min.css set `[hidden] { display: none !important; }` so we also need the `!important` here to be able to override the default hidden behavior on the sphinx rendered scikit-learn.org. See: https://github.com/scikit-learn/scikit-learn/issues/21755 */display: inline-block !important;position: relative;}#sk-container-id-2 div.sk-text-repr-fallback {display: none;}</style><div id=\"sk-container-id-2\" class=\"sk-top-container\"><div class=\"sk-text-repr-fallback\"><pre>Pipeline(steps=[(&#x27;t&#x27;,\n",
       "                 ColumnTransformer(transformers=[(&#x27;c&#x27;,\n",
       "                                                  OneHotEncoder(handle_unknown=&#x27;ignore&#x27;),\n",
       "                                                  Index([&#x27;class of worker&#x27;, &#x27;education&#x27;, &#x27;enroll in edu inst last wk&#x27;,\n",
       "       &#x27;marital stat&#x27;, &#x27;major industry code&#x27;, &#x27;major occupation code&#x27;, &#x27;race&#x27;,\n",
       "       &#x27;hispanic origin&#x27;, &#x27;sex&#x27;, &#x27;member of a labor union&#x27;,\n",
       "       &#x27;reason for unemployment&#x27;, &#x27;full or part time employment stat&#x27;,\n",
       "       &#x27;tax filer stat&#x27;, &#x27;region of previou...\n",
       "       &#x27;fill inc questionnaire for veteran&#x27;s admin&#x27;],\n",
       "      dtype=&#x27;object&#x27;)),\n",
       "                                                 (&#x27;n&#x27;, MinMaxScaler(),\n",
       "                                                  Index([&#x27;age&#x27;, &#x27;detailed industry recode&#x27;, &#x27;detailed occupation recode&#x27;,\n",
       "       &#x27;wage per hour&#x27;, &#x27;capital gains&#x27;, &#x27;capital losses&#x27;,\n",
       "       &#x27;dividends from stocks&#x27;, &#x27;instance weight&#x27;,\n",
       "       &#x27;num persons worked for employer&#x27;, &#x27;own business or self employed&#x27;,\n",
       "       &#x27;veterans benefits&#x27;, &#x27;weeks worked in year&#x27;, &#x27;year&#x27;],\n",
       "      dtype=&#x27;object&#x27;))])),\n",
       "                (&#x27;m&#x27;, GradientBoostingClassifier())])</pre><b>In a Jupyter environment, please rerun this cell to show the HTML representation or trust the notebook. <br />On GitHub, the HTML representation is unable to render, please try loading this page with nbviewer.org.</b></div><div class=\"sk-container\" hidden><div class=\"sk-item sk-dashed-wrapped\"><div class=\"sk-label-container\"><div class=\"sk-label sk-toggleable\"><input class=\"sk-toggleable__control sk-hidden--visually\" id=\"sk-estimator-id-8\" type=\"checkbox\" ><label for=\"sk-estimator-id-8\" class=\"sk-toggleable__label sk-toggleable__label-arrow\">Pipeline</label><div class=\"sk-toggleable__content\"><pre>Pipeline(steps=[(&#x27;t&#x27;,\n",
       "                 ColumnTransformer(transformers=[(&#x27;c&#x27;,\n",
       "                                                  OneHotEncoder(handle_unknown=&#x27;ignore&#x27;),\n",
       "                                                  Index([&#x27;class of worker&#x27;, &#x27;education&#x27;, &#x27;enroll in edu inst last wk&#x27;,\n",
       "       &#x27;marital stat&#x27;, &#x27;major industry code&#x27;, &#x27;major occupation code&#x27;, &#x27;race&#x27;,\n",
       "       &#x27;hispanic origin&#x27;, &#x27;sex&#x27;, &#x27;member of a labor union&#x27;,\n",
       "       &#x27;reason for unemployment&#x27;, &#x27;full or part time employment stat&#x27;,\n",
       "       &#x27;tax filer stat&#x27;, &#x27;region of previou...\n",
       "       &#x27;fill inc questionnaire for veteran&#x27;s admin&#x27;],\n",
       "      dtype=&#x27;object&#x27;)),\n",
       "                                                 (&#x27;n&#x27;, MinMaxScaler(),\n",
       "                                                  Index([&#x27;age&#x27;, &#x27;detailed industry recode&#x27;, &#x27;detailed occupation recode&#x27;,\n",
       "       &#x27;wage per hour&#x27;, &#x27;capital gains&#x27;, &#x27;capital losses&#x27;,\n",
       "       &#x27;dividends from stocks&#x27;, &#x27;instance weight&#x27;,\n",
       "       &#x27;num persons worked for employer&#x27;, &#x27;own business or self employed&#x27;,\n",
       "       &#x27;veterans benefits&#x27;, &#x27;weeks worked in year&#x27;, &#x27;year&#x27;],\n",
       "      dtype=&#x27;object&#x27;))])),\n",
       "                (&#x27;m&#x27;, GradientBoostingClassifier())])</pre></div></div></div><div class=\"sk-serial\"><div class=\"sk-item sk-dashed-wrapped\"><div class=\"sk-label-container\"><div class=\"sk-label sk-toggleable\"><input class=\"sk-toggleable__control sk-hidden--visually\" id=\"sk-estimator-id-9\" type=\"checkbox\" ><label for=\"sk-estimator-id-9\" class=\"sk-toggleable__label sk-toggleable__label-arrow\">t: ColumnTransformer</label><div class=\"sk-toggleable__content\"><pre>ColumnTransformer(transformers=[(&#x27;c&#x27;, OneHotEncoder(handle_unknown=&#x27;ignore&#x27;),\n",
       "                                 Index([&#x27;class of worker&#x27;, &#x27;education&#x27;, &#x27;enroll in edu inst last wk&#x27;,\n",
       "       &#x27;marital stat&#x27;, &#x27;major industry code&#x27;, &#x27;major occupation code&#x27;, &#x27;race&#x27;,\n",
       "       &#x27;hispanic origin&#x27;, &#x27;sex&#x27;, &#x27;member of a labor union&#x27;,\n",
       "       &#x27;reason for unemployment&#x27;, &#x27;full or part time employment stat&#x27;,\n",
       "       &#x27;tax filer stat&#x27;, &#x27;region of previous residence&#x27;,\n",
       "       &#x27;state of p...\n",
       "       &#x27;fill inc questionnaire for veteran&#x27;s admin&#x27;],\n",
       "      dtype=&#x27;object&#x27;)),\n",
       "                                (&#x27;n&#x27;, MinMaxScaler(),\n",
       "                                 Index([&#x27;age&#x27;, &#x27;detailed industry recode&#x27;, &#x27;detailed occupation recode&#x27;,\n",
       "       &#x27;wage per hour&#x27;, &#x27;capital gains&#x27;, &#x27;capital losses&#x27;,\n",
       "       &#x27;dividends from stocks&#x27;, &#x27;instance weight&#x27;,\n",
       "       &#x27;num persons worked for employer&#x27;, &#x27;own business or self employed&#x27;,\n",
       "       &#x27;veterans benefits&#x27;, &#x27;weeks worked in year&#x27;, &#x27;year&#x27;],\n",
       "      dtype=&#x27;object&#x27;))])</pre></div></div></div><div class=\"sk-parallel\"><div class=\"sk-parallel-item\"><div class=\"sk-item\"><div class=\"sk-label-container\"><div class=\"sk-label sk-toggleable\"><input class=\"sk-toggleable__control sk-hidden--visually\" id=\"sk-estimator-id-10\" type=\"checkbox\" ><label for=\"sk-estimator-id-10\" class=\"sk-toggleable__label sk-toggleable__label-arrow\">c</label><div class=\"sk-toggleable__content\"><pre>Index([&#x27;class of worker&#x27;, &#x27;education&#x27;, &#x27;enroll in edu inst last wk&#x27;,\n",
       "       &#x27;marital stat&#x27;, &#x27;major industry code&#x27;, &#x27;major occupation code&#x27;, &#x27;race&#x27;,\n",
       "       &#x27;hispanic origin&#x27;, &#x27;sex&#x27;, &#x27;member of a labor union&#x27;,\n",
       "       &#x27;reason for unemployment&#x27;, &#x27;full or part time employment stat&#x27;,\n",
       "       &#x27;tax filer stat&#x27;, &#x27;region of previous residence&#x27;,\n",
       "       &#x27;state of previous residence&#x27;, &#x27;detailed household and family stat&#x27;,\n",
       "       &#x27;detailed household summary in household&#x27;,\n",
       "       &#x27;migration code-change in msa&#x27;, &#x27;migration code-change in reg&#x27;,\n",
       "       &#x27;migration code-move within reg&#x27;, &#x27;live in this house 1 year ago&#x27;,\n",
       "       &#x27;migration prev res in sunbelt&#x27;, &#x27;family members under 18&#x27;,\n",
       "       &#x27;country of birth father&#x27;, &#x27;country of birth mother&#x27;,\n",
       "       &#x27;country of birth self&#x27;, &#x27;citizenship&#x27;,\n",
       "       &#x27;fill inc questionnaire for veteran&#x27;s admin&#x27;],\n",
       "      dtype=&#x27;object&#x27;)</pre></div></div></div><div class=\"sk-serial\"><div class=\"sk-item\"><div class=\"sk-estimator sk-toggleable\"><input class=\"sk-toggleable__control sk-hidden--visually\" id=\"sk-estimator-id-11\" type=\"checkbox\" ><label for=\"sk-estimator-id-11\" class=\"sk-toggleable__label sk-toggleable__label-arrow\">OneHotEncoder</label><div class=\"sk-toggleable__content\"><pre>OneHotEncoder(handle_unknown=&#x27;ignore&#x27;)</pre></div></div></div></div></div></div><div class=\"sk-parallel-item\"><div class=\"sk-item\"><div class=\"sk-label-container\"><div class=\"sk-label sk-toggleable\"><input class=\"sk-toggleable__control sk-hidden--visually\" id=\"sk-estimator-id-12\" type=\"checkbox\" ><label for=\"sk-estimator-id-12\" class=\"sk-toggleable__label sk-toggleable__label-arrow\">n</label><div class=\"sk-toggleable__content\"><pre>Index([&#x27;age&#x27;, &#x27;detailed industry recode&#x27;, &#x27;detailed occupation recode&#x27;,\n",
       "       &#x27;wage per hour&#x27;, &#x27;capital gains&#x27;, &#x27;capital losses&#x27;,\n",
       "       &#x27;dividends from stocks&#x27;, &#x27;instance weight&#x27;,\n",
       "       &#x27;num persons worked for employer&#x27;, &#x27;own business or self employed&#x27;,\n",
       "       &#x27;veterans benefits&#x27;, &#x27;weeks worked in year&#x27;, &#x27;year&#x27;],\n",
       "      dtype=&#x27;object&#x27;)</pre></div></div></div><div class=\"sk-serial\"><div class=\"sk-item\"><div class=\"sk-estimator sk-toggleable\"><input class=\"sk-toggleable__control sk-hidden--visually\" id=\"sk-estimator-id-13\" type=\"checkbox\" ><label for=\"sk-estimator-id-13\" class=\"sk-toggleable__label sk-toggleable__label-arrow\">MinMaxScaler</label><div class=\"sk-toggleable__content\"><pre>MinMaxScaler()</pre></div></div></div></div></div></div></div></div><div class=\"sk-item\"><div class=\"sk-estimator sk-toggleable\"><input class=\"sk-toggleable__control sk-hidden--visually\" id=\"sk-estimator-id-14\" type=\"checkbox\" ><label for=\"sk-estimator-id-14\" class=\"sk-toggleable__label sk-toggleable__label-arrow\">GradientBoostingClassifier</label><div class=\"sk-toggleable__content\"><pre>GradientBoostingClassifier()</pre></div></div></div></div></div></div></div>"
      ],
      "text/plain": [
       "Pipeline(steps=[('t',\n",
       "                 ColumnTransformer(transformers=[('c',\n",
       "                                                  OneHotEncoder(handle_unknown='ignore'),\n",
       "                                                  Index(['class of worker', 'education', 'enroll in edu inst last wk',\n",
       "       'marital stat', 'major industry code', 'major occupation code', 'race',\n",
       "       'hispanic origin', 'sex', 'member of a labor union',\n",
       "       'reason for unemployment', 'full or part time employment stat',\n",
       "       'tax filer stat', 'region of previou...\n",
       "       'fill inc questionnaire for veteran's admin'],\n",
       "      dtype='object')),\n",
       "                                                 ('n', MinMaxScaler(),\n",
       "                                                  Index(['age', 'detailed industry recode', 'detailed occupation recode',\n",
       "       'wage per hour', 'capital gains', 'capital losses',\n",
       "       'dividends from stocks', 'instance weight',\n",
       "       'num persons worked for employer', 'own business or self employed',\n",
       "       'veterans benefits', 'weeks worked in year', 'year'],\n",
       "      dtype='object'))])),\n",
       "                ('m', GradientBoostingClassifier())])"
      ]
     },
     "execution_count": 17,
     "metadata": {},
     "output_type": "execute_result"
    }
   ],
   "source": [
    "pipeline"
   ]
  },
  {
   "cell_type": "code",
   "execution_count": 35,
   "metadata": {},
   "outputs": [
    {
     "data": {
      "text/html": [
       "<style>#sk-container-id-3 {color: black;background-color: white;}#sk-container-id-3 pre{padding: 0;}#sk-container-id-3 div.sk-toggleable {background-color: white;}#sk-container-id-3 label.sk-toggleable__label {cursor: pointer;display: block;width: 100%;margin-bottom: 0;padding: 0.3em;box-sizing: border-box;text-align: center;}#sk-container-id-3 label.sk-toggleable__label-arrow:before {content: \"▸\";float: left;margin-right: 0.25em;color: #696969;}#sk-container-id-3 label.sk-toggleable__label-arrow:hover:before {color: black;}#sk-container-id-3 div.sk-estimator:hover label.sk-toggleable__label-arrow:before {color: black;}#sk-container-id-3 div.sk-toggleable__content {max-height: 0;max-width: 0;overflow: hidden;text-align: left;background-color: #f0f8ff;}#sk-container-id-3 div.sk-toggleable__content pre {margin: 0.2em;color: black;border-radius: 0.25em;background-color: #f0f8ff;}#sk-container-id-3 input.sk-toggleable__control:checked~div.sk-toggleable__content {max-height: 200px;max-width: 100%;overflow: auto;}#sk-container-id-3 input.sk-toggleable__control:checked~label.sk-toggleable__label-arrow:before {content: \"▾\";}#sk-container-id-3 div.sk-estimator input.sk-toggleable__control:checked~label.sk-toggleable__label {background-color: #d4ebff;}#sk-container-id-3 div.sk-label input.sk-toggleable__control:checked~label.sk-toggleable__label {background-color: #d4ebff;}#sk-container-id-3 input.sk-hidden--visually {border: 0;clip: rect(1px 1px 1px 1px);clip: rect(1px, 1px, 1px, 1px);height: 1px;margin: -1px;overflow: hidden;padding: 0;position: absolute;width: 1px;}#sk-container-id-3 div.sk-estimator {font-family: monospace;background-color: #f0f8ff;border: 1px dotted black;border-radius: 0.25em;box-sizing: border-box;margin-bottom: 0.5em;}#sk-container-id-3 div.sk-estimator:hover {background-color: #d4ebff;}#sk-container-id-3 div.sk-parallel-item::after {content: \"\";width: 100%;border-bottom: 1px solid gray;flex-grow: 1;}#sk-container-id-3 div.sk-label:hover label.sk-toggleable__label {background-color: #d4ebff;}#sk-container-id-3 div.sk-serial::before {content: \"\";position: absolute;border-left: 1px solid gray;box-sizing: border-box;top: 0;bottom: 0;left: 50%;z-index: 0;}#sk-container-id-3 div.sk-serial {display: flex;flex-direction: column;align-items: center;background-color: white;padding-right: 0.2em;padding-left: 0.2em;position: relative;}#sk-container-id-3 div.sk-item {position: relative;z-index: 1;}#sk-container-id-3 div.sk-parallel {display: flex;align-items: stretch;justify-content: center;background-color: white;position: relative;}#sk-container-id-3 div.sk-item::before, #sk-container-id-3 div.sk-parallel-item::before {content: \"\";position: absolute;border-left: 1px solid gray;box-sizing: border-box;top: 0;bottom: 0;left: 50%;z-index: -1;}#sk-container-id-3 div.sk-parallel-item {display: flex;flex-direction: column;z-index: 1;position: relative;background-color: white;}#sk-container-id-3 div.sk-parallel-item:first-child::after {align-self: flex-end;width: 50%;}#sk-container-id-3 div.sk-parallel-item:last-child::after {align-self: flex-start;width: 50%;}#sk-container-id-3 div.sk-parallel-item:only-child::after {width: 0;}#sk-container-id-3 div.sk-dashed-wrapped {border: 1px dashed gray;margin: 0 0.4em 0.5em 0.4em;box-sizing: border-box;padding-bottom: 0.4em;background-color: white;}#sk-container-id-3 div.sk-label label {font-family: monospace;font-weight: bold;display: inline-block;line-height: 1.2em;}#sk-container-id-3 div.sk-label-container {text-align: center;}#sk-container-id-3 div.sk-container {/* jupyter's `normalize.less` sets `[hidden] { display: none; }` but bootstrap.min.css set `[hidden] { display: none !important; }` so we also need the `!important` here to be able to override the default hidden behavior on the sphinx rendered scikit-learn.org. See: https://github.com/scikit-learn/scikit-learn/issues/21755 */display: inline-block !important;position: relative;}#sk-container-id-3 div.sk-text-repr-fallback {display: none;}</style><div id=\"sk-container-id-3\" class=\"sk-top-container\"><div class=\"sk-text-repr-fallback\"><pre>ColumnTransformer(transformers=[(&#x27;c&#x27;, OneHotEncoder(handle_unknown=&#x27;ignore&#x27;),\n",
       "                                 Index([&#x27;class of worker&#x27;, &#x27;education&#x27;, &#x27;enroll in edu inst last wk&#x27;,\n",
       "       &#x27;marital stat&#x27;, &#x27;major industry code&#x27;, &#x27;major occupation code&#x27;, &#x27;race&#x27;,\n",
       "       &#x27;hispanic origin&#x27;, &#x27;sex&#x27;, &#x27;member of a labor union&#x27;,\n",
       "       &#x27;reason for unemployment&#x27;, &#x27;full or part time employment stat&#x27;,\n",
       "       &#x27;tax filer stat&#x27;, &#x27;region of previous residence&#x27;,\n",
       "       &#x27;state of p...\n",
       "       &#x27;fill inc questionnaire for veteran&#x27;s admin&#x27;],\n",
       "      dtype=&#x27;object&#x27;)),\n",
       "                                (&#x27;n&#x27;, MinMaxScaler(),\n",
       "                                 Index([&#x27;age&#x27;, &#x27;detailed industry recode&#x27;, &#x27;detailed occupation recode&#x27;,\n",
       "       &#x27;wage per hour&#x27;, &#x27;capital gains&#x27;, &#x27;capital losses&#x27;,\n",
       "       &#x27;dividends from stocks&#x27;, &#x27;instance weight&#x27;,\n",
       "       &#x27;num persons worked for employer&#x27;, &#x27;own business or self employed&#x27;,\n",
       "       &#x27;veterans benefits&#x27;, &#x27;weeks worked in year&#x27;, &#x27;year&#x27;],\n",
       "      dtype=&#x27;object&#x27;))])</pre><b>In a Jupyter environment, please rerun this cell to show the HTML representation or trust the notebook. <br />On GitHub, the HTML representation is unable to render, please try loading this page with nbviewer.org.</b></div><div class=\"sk-container\" hidden><div class=\"sk-item sk-dashed-wrapped\"><div class=\"sk-label-container\"><div class=\"sk-label sk-toggleable\"><input class=\"sk-toggleable__control sk-hidden--visually\" id=\"sk-estimator-id-15\" type=\"checkbox\" ><label for=\"sk-estimator-id-15\" class=\"sk-toggleable__label sk-toggleable__label-arrow\">ColumnTransformer</label><div class=\"sk-toggleable__content\"><pre>ColumnTransformer(transformers=[(&#x27;c&#x27;, OneHotEncoder(handle_unknown=&#x27;ignore&#x27;),\n",
       "                                 Index([&#x27;class of worker&#x27;, &#x27;education&#x27;, &#x27;enroll in edu inst last wk&#x27;,\n",
       "       &#x27;marital stat&#x27;, &#x27;major industry code&#x27;, &#x27;major occupation code&#x27;, &#x27;race&#x27;,\n",
       "       &#x27;hispanic origin&#x27;, &#x27;sex&#x27;, &#x27;member of a labor union&#x27;,\n",
       "       &#x27;reason for unemployment&#x27;, &#x27;full or part time employment stat&#x27;,\n",
       "       &#x27;tax filer stat&#x27;, &#x27;region of previous residence&#x27;,\n",
       "       &#x27;state of p...\n",
       "       &#x27;fill inc questionnaire for veteran&#x27;s admin&#x27;],\n",
       "      dtype=&#x27;object&#x27;)),\n",
       "                                (&#x27;n&#x27;, MinMaxScaler(),\n",
       "                                 Index([&#x27;age&#x27;, &#x27;detailed industry recode&#x27;, &#x27;detailed occupation recode&#x27;,\n",
       "       &#x27;wage per hour&#x27;, &#x27;capital gains&#x27;, &#x27;capital losses&#x27;,\n",
       "       &#x27;dividends from stocks&#x27;, &#x27;instance weight&#x27;,\n",
       "       &#x27;num persons worked for employer&#x27;, &#x27;own business or self employed&#x27;,\n",
       "       &#x27;veterans benefits&#x27;, &#x27;weeks worked in year&#x27;, &#x27;year&#x27;],\n",
       "      dtype=&#x27;object&#x27;))])</pre></div></div></div><div class=\"sk-parallel\"><div class=\"sk-parallel-item\"><div class=\"sk-item\"><div class=\"sk-label-container\"><div class=\"sk-label sk-toggleable\"><input class=\"sk-toggleable__control sk-hidden--visually\" id=\"sk-estimator-id-16\" type=\"checkbox\" ><label for=\"sk-estimator-id-16\" class=\"sk-toggleable__label sk-toggleable__label-arrow\">c</label><div class=\"sk-toggleable__content\"><pre>Index([&#x27;class of worker&#x27;, &#x27;education&#x27;, &#x27;enroll in edu inst last wk&#x27;,\n",
       "       &#x27;marital stat&#x27;, &#x27;major industry code&#x27;, &#x27;major occupation code&#x27;, &#x27;race&#x27;,\n",
       "       &#x27;hispanic origin&#x27;, &#x27;sex&#x27;, &#x27;member of a labor union&#x27;,\n",
       "       &#x27;reason for unemployment&#x27;, &#x27;full or part time employment stat&#x27;,\n",
       "       &#x27;tax filer stat&#x27;, &#x27;region of previous residence&#x27;,\n",
       "       &#x27;state of previous residence&#x27;, &#x27;detailed household and family stat&#x27;,\n",
       "       &#x27;detailed household summary in household&#x27;,\n",
       "       &#x27;migration code-change in msa&#x27;, &#x27;migration code-change in reg&#x27;,\n",
       "       &#x27;migration code-move within reg&#x27;, &#x27;live in this house 1 year ago&#x27;,\n",
       "       &#x27;migration prev res in sunbelt&#x27;, &#x27;family members under 18&#x27;,\n",
       "       &#x27;country of birth father&#x27;, &#x27;country of birth mother&#x27;,\n",
       "       &#x27;country of birth self&#x27;, &#x27;citizenship&#x27;,\n",
       "       &#x27;fill inc questionnaire for veteran&#x27;s admin&#x27;],\n",
       "      dtype=&#x27;object&#x27;)</pre></div></div></div><div class=\"sk-serial\"><div class=\"sk-item\"><div class=\"sk-estimator sk-toggleable\"><input class=\"sk-toggleable__control sk-hidden--visually\" id=\"sk-estimator-id-17\" type=\"checkbox\" ><label for=\"sk-estimator-id-17\" class=\"sk-toggleable__label sk-toggleable__label-arrow\">OneHotEncoder</label><div class=\"sk-toggleable__content\"><pre>OneHotEncoder(handle_unknown=&#x27;ignore&#x27;)</pre></div></div></div></div></div></div><div class=\"sk-parallel-item\"><div class=\"sk-item\"><div class=\"sk-label-container\"><div class=\"sk-label sk-toggleable\"><input class=\"sk-toggleable__control sk-hidden--visually\" id=\"sk-estimator-id-18\" type=\"checkbox\" ><label for=\"sk-estimator-id-18\" class=\"sk-toggleable__label sk-toggleable__label-arrow\">n</label><div class=\"sk-toggleable__content\"><pre>Index([&#x27;age&#x27;, &#x27;detailed industry recode&#x27;, &#x27;detailed occupation recode&#x27;,\n",
       "       &#x27;wage per hour&#x27;, &#x27;capital gains&#x27;, &#x27;capital losses&#x27;,\n",
       "       &#x27;dividends from stocks&#x27;, &#x27;instance weight&#x27;,\n",
       "       &#x27;num persons worked for employer&#x27;, &#x27;own business or self employed&#x27;,\n",
       "       &#x27;veterans benefits&#x27;, &#x27;weeks worked in year&#x27;, &#x27;year&#x27;],\n",
       "      dtype=&#x27;object&#x27;)</pre></div></div></div><div class=\"sk-serial\"><div class=\"sk-item\"><div class=\"sk-estimator sk-toggleable\"><input class=\"sk-toggleable__control sk-hidden--visually\" id=\"sk-estimator-id-19\" type=\"checkbox\" ><label for=\"sk-estimator-id-19\" class=\"sk-toggleable__label sk-toggleable__label-arrow\">MinMaxScaler</label><div class=\"sk-toggleable__content\"><pre>MinMaxScaler()</pre></div></div></div></div></div></div></div></div></div></div>"
      ],
      "text/plain": [
       "ColumnTransformer(transformers=[('c', OneHotEncoder(handle_unknown='ignore'),\n",
       "                                 Index(['class of worker', 'education', 'enroll in edu inst last wk',\n",
       "       'marital stat', 'major industry code', 'major occupation code', 'race',\n",
       "       'hispanic origin', 'sex', 'member of a labor union',\n",
       "       'reason for unemployment', 'full or part time employment stat',\n",
       "       'tax filer stat', 'region of previous residence',\n",
       "       'state of p...\n",
       "       'fill inc questionnaire for veteran's admin'],\n",
       "      dtype='object')),\n",
       "                                ('n', MinMaxScaler(),\n",
       "                                 Index(['age', 'detailed industry recode', 'detailed occupation recode',\n",
       "       'wage per hour', 'capital gains', 'capital losses',\n",
       "       'dividends from stocks', 'instance weight',\n",
       "       'num persons worked for employer', 'own business or self employed',\n",
       "       'veterans benefits', 'weeks worked in year', 'year'],\n",
       "      dtype='object'))])"
      ]
     },
     "execution_count": 35,
     "metadata": {},
     "output_type": "execute_result"
    }
   ],
   "source": [
    "pipeline.steps[0][1]"
   ]
  },
  {
   "cell_type": "code",
   "execution_count": 9,
   "metadata": {},
   "outputs": [],
   "source": [
    "col_names = [\n",
    "  \"age\",\n",
    "  \"class of worker\",\n",
    "  \"detailed industry recode\",\n",
    "  \"detailed occupation recode\",\n",
    "  \"education\",\n",
    "  \"wage per hour\",\n",
    "  \"enroll in edu inst last wk\",\n",
    "  \"marital stat\",\n",
    "  \"major industry code\",\n",
    "  \"major occupation code\",\n",
    "  \"race\",\n",
    "  \"hispanic origin\",\n",
    "  \"sex\",\n",
    "  \"member of a labor union\",\n",
    "  \"reason for unemployment\",\n",
    "  \"full or part time employment stat\",\n",
    "  \"capital gains\",\n",
    "  \"capital losses\",\n",
    "  \"dividends from stocks\",\n",
    "  \"tax filer stat\",\n",
    "  \"region of previous residence\",\n",
    "  \"state of previous residence\",\n",
    "  \"detailed household and family stat\",\n",
    "  \"detailed household summary in household\",\n",
    "  \"instance weight\",\n",
    "  \"migration code-change in msa\",\n",
    "  \"migration code-change in reg\",\n",
    "  \"migration code-move within reg\",\n",
    "  \"live in this house 1 year ago\",\n",
    "  \"migration prev res in sunbelt\",\n",
    "  \"num persons worked for employer\",\n",
    "  \"family members under 18\",\n",
    "  \"country of birth father\",\n",
    "  \"country of birth mother\",\n",
    "  \"country of birth self\",\n",
    "  \"citizenship\",\n",
    "  \"own business or self employed\",\n",
    "  \"fill inc questionnaire for veteran's admin\",\n",
    "  \"veterans benefits\",\n",
    "  \"weeks worked in year\",\n",
    "  \"year\",\n",
    "  \"income\"]"
   ]
  },
  {
   "cell_type": "code",
   "execution_count": 11,
   "metadata": {},
   "outputs": [],
   "source": [
    "test = pd.read_csv(\"/Users/rory.hurley/Documents/GitHub/uscb_classifier/data/raw/census_income_test.csv\", names=col_names, na_values=' ?')"
   ]
  },
  {
   "cell_type": "code",
   "execution_count": 18,
   "metadata": {},
   "outputs": [],
   "source": [
    "X_test = test.iloc[:, :-1]\n",
    "y_test = test.iloc[:, -1]"
   ]
  },
  {
   "cell_type": "code",
   "execution_count": 24,
   "metadata": {},
   "outputs": [
    {
     "data": {
      "text/plain": [
       "array([0, 0, 0, ..., 0, 0, 0])"
      ]
     },
     "execution_count": 24,
     "metadata": {},
     "output_type": "execute_result"
    }
   ],
   "source": [
    "y_test = LabelEncoder().fit_transform(y_test)\n",
    "y_test"
   ]
  },
  {
   "cell_type": "code",
   "execution_count": 25,
   "metadata": {},
   "outputs": [],
   "source": [
    "y_preds = pipeline.predict(X_test)"
   ]
  },
  {
   "cell_type": "code",
   "execution_count": 26,
   "metadata": {},
   "outputs": [
    {
     "name": "stdout",
     "output_type": "stream",
     "text": [
      "              precision    recall  f1-score   support\n",
      "\n",
      "           0       0.96      0.99      0.98     93576\n",
      "           1       0.75      0.41      0.53      6186\n",
      "\n",
      "    accuracy                           0.95     99762\n",
      "   macro avg       0.86      0.70      0.75     99762\n",
      "weighted avg       0.95      0.95      0.95     99762\n",
      "\n"
     ]
    }
   ],
   "source": [
    "print(classification_report(y_true=y_test, y_pred=y_preds))"
   ]
  },
  {
   "cell_type": "code",
   "execution_count": null,
   "metadata": {},
   "outputs": [],
   "source": []
  }
 ],
 "metadata": {
  "kernelspec": {
   "display_name": "usbc_venv",
   "language": "python",
   "name": "python3"
  },
  "language_info": {
   "codemirror_mode": {
    "name": "ipython",
    "version": 3
   },
   "file_extension": ".py",
   "mimetype": "text/x-python",
   "name": "python",
   "nbconvert_exporter": "python",
   "pygments_lexer": "ipython3",
   "version": "3.10.0 (default, Dec 20 2022, 22:03:43) [Clang 14.0.0 (clang-1400.0.29.202)]"
  },
  "orig_nbformat": 4,
  "vscode": {
   "interpreter": {
    "hash": "ac071e1398cffcad26b39b85b55e82a6538a148c1efa68764d8b65ed779f57e8"
   }
  }
 },
 "nbformat": 4,
 "nbformat_minor": 2
}
